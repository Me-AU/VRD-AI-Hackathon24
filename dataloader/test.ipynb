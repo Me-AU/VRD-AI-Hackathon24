{
 "cells": [
  {
   "cell_type": "code",
   "execution_count": 1,
   "metadata": {},
   "outputs": [],
   "source": [
    "from action_dataloader import BatchGenerator, parse_actions_dict\n",
    "import torch\n",
    "import torch.nn as nn\n",
    "import torch.optim as optim"
   ]
  },
  {
   "cell_type": "code",
   "execution_count": null,
   "metadata": {},
   "outputs": [],
   "source": [
    "# Required parameters\n",
    "mapping_file = \"/home/user/visisonrd-action-segmentation/visisonrd-action-segmentation/data/mapping.txt\"  # Replace with the actual path to your mapping.txt\n",
    "gt_path = \"path/to/groundTruth\"       # Replace with the actual path to ground truth files\n",
    "features_path = \"path/to/features\"    # Replace with the actual path to feature files\n",
    "model_type = \"mstcn\"                  # \"mstcn\" or \"asformer\"\n",
    "sample_rate = 1                       # Adjust as needed\n",
    "batch_size = 4\n",
    "num_epochs = 10\n",
    "device = torch.device(\"cuda\" if torch.cuda.is_available() else \"cpu\")\n",
    "\n",
    "# Parse the action mapping file\n",
    "actions_dict = parse_actions_dict(mapping_file)\n",
    "\n",
    "# Get the number of classes from the action mapping\n",
    "num_classes = len(actions_dict)\n",
    "\n",
    "# Initialize the BatchGenerator\n",
    "batch_gen = BatchGenerator(num_classes, actions_dict, gt_path, features_path, sample_rate, model_type)"
   ]
  },
  {
   "cell_type": "code",
   "execution_count": null,
   "metadata": {},
   "outputs": [],
   "source": [
    "batch_gen.load_examples()"
   ]
  },
  {
   "cell_type": "code",
   "execution_count": null,
   "metadata": {},
   "outputs": [],
   "source": [
    "batch_size = 4  # Number of samples per batch\n",
    "while batch_gen.has_next():\n",
    "    batch_input, batch_target, mask, batch_videos = batch_gen.next_batch(batch_size, if_warp=(model_type == \"asformer\"))\n",
    "    print(f\"Batch Input Shape: {batch_input.shape}, Target Shape: {batch_target.shape}, Mask Shape: {mask.shape}\")"
   ]
  },
  {
   "cell_type": "code",
   "execution_count": null,
   "metadata": {},
   "outputs": [],
   "source": [
    "# Define a simple model\n",
    "model = nn.Sequential(\n",
    "    nn.Conv1d(in_channels=2048, out_channels=512, kernel_size=3, padding=1),  # Example input feature dim = 2048\n",
    "    nn.ReLU(),\n",
    "    nn.Conv1d(in_channels=512, out_channels=num_classes, kernel_size=1)\n",
    ")\n",
    "model = model.to(device)\n",
    "\n",
    "# Loss and optimizer\n",
    "criterion = nn.CrossEntropyLoss(ignore_index=-100)  # Ignore -100 in targets\n",
    "optimizer = optim.Adam(model.parameters(), lr=0.001)\n"
   ]
  },
  {
   "cell_type": "code",
   "execution_count": null,
   "metadata": {},
   "outputs": [],
   "source": [
    "for epoch in range(num_epochs):\n",
    "    batch_gen.reset()  # Reset and shuffle at the start of each epoch\n",
    "    while batch_gen.has_next():\n",
    "        batch_input, batch_target, mask, batch_videos = batch_gen.next_batch(batch_size, if_warp=(model_type == \"asformer\"))\n",
    "        \n",
    "        # Move tensors to the correct device (e.g., GPU)\n",
    "        batch_input = batch_input.to(device)\n",
    "        batch_target = batch_target.to(device)\n",
    "        \n",
    "        # Forward pass through the model\n",
    "        outputs = model(batch_input)\n",
    "        \n",
    "        # Compute loss (example using CrossEntropyLoss)\n",
    "        loss = criterion(outputs, batch_target)\n",
    "        \n",
    "        # Backpropagation and optimization\n",
    "        optimizer.zero_grad()\n",
    "        loss.backward()\n",
    "        optimizer.step()"
   ]
  }
 ],
 "metadata": {
  "kernelspec": {
   "display_name": "env",
   "language": "python",
   "name": "python3"
  },
  "language_info": {
   "codemirror_mode": {
    "name": "ipython",
    "version": 3
   },
   "file_extension": ".py",
   "mimetype": "text/x-python",
   "name": "python",
   "nbconvert_exporter": "python",
   "pygments_lexer": "ipython3",
   "version": "3.11.9"
  }
 },
 "nbformat": 4,
 "nbformat_minor": 2
}
